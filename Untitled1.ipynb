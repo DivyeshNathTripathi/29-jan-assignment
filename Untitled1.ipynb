{
  "nbformat": 4,
  "nbformat_minor": 0,
  "metadata": {
    "colab": {
      "provenance": []
    },
    "kernelspec": {
      "name": "python3",
      "display_name": "Python 3"
    },
    "language_info": {
      "name": "python"
    }
  },
  "cells": [
    {
      "cell_type": "markdown",
      "source": [
        "**Question 1**: Who developed Python Programming Language?\n",
        "\n",
        "**Answer**: Guido van Rossum.\n",
        "\n",
        "**Question 2**: Which type of Programming does Python support?\n",
        "\n",
        "**Answer**: Python supports multiple programming paradigms, including procedural, object-oriented, and functional programming.\n",
        "\n",
        "**Question 3**: Is Python case-sensitive when dealing with identifiers?\n",
        "\n",
        "**Answer**: Yes, Python is case-sensitive.\n",
        "\n",
        "**Question 4**: What is the correct extension of the Python file?\n",
        "\n",
        "**Answer**: .py\n",
        "\n",
        "**Question 5**: Is Python code compiled or interpreted?\n",
        "\n",
        "**Answer**: Python is an interpreted language.\n",
        "\n",
        "**Question 6**: Name a few blocks of code used to define in Python language.\n",
        "\n",
        "**Answer**: Functions, classes, loops (for and while), conditional statements (if, elif, else), and exception handling (try, except, finally).\n",
        "\n",
        "**Question 7**: State a character used to give single-line comments in Python?\n",
        "\n",
        "**Answer**: #\n",
        "\n",
        "**Question 8**: Mention functions which can help us to find the version of Python that we are currently working on.\n",
        "\n",
        "**Answer**: sys.version or platform.python_version().\n",
        "\n",
        "**Question 9**: Python supports the creation of anonymous functions at runtime, using a construct called\n",
        "\n",
        "**Answer**: lambda.\n",
        "\n",
        "**Question 10**: What does pip stand for in Python?\n",
        "\n",
        "**Answer**: pip stands for \"Pip Installs Packages.\"\n",
        "\n",
        "**Question 11**: Mention a few built-in functions in Python?\n",
        "\n",
        "**Answer**: Examples include print(), len(), type(), input(), sum(), max(), min(), abs().\n",
        "\n",
        "**Question 12**: What is the maximum possible length of an identifier in Python?\n",
        "\n",
        "**Answer**: There is no defined maximum length for an identifier, but it must fit in memory.\n",
        "\n",
        "**Question 13**: What are the benefits of using Python?\n",
        "\n",
        "**Answer**:\n",
        "\n",
        "\n",
        "1.  Easy to learn and use.\n",
        "2.  Extensive libraries and frameworks.\n",
        "3.  Portability and versatility.\n",
        "4.  Dynamic typing.\n",
        "5.  Active community support.\n",
        "\n",
        "\n",
        "\n",
        "**Question 14**: How is memory managed in Python?\n",
        "\n",
        "**Answer**: Python uses automatic memory management, with garbage collection to reclaim unused memory.\n",
        "\n",
        "**Question 15**: How to install Python on Windows and set path variables?\n",
        "\n",
        "**Answer**:\n",
        "1. Download Python from the official Python website.\n",
        "2. Run the installer and check the box \"Add Python to PATH\" during installation.\n",
        "3. Verify installation by running python --version in Command Prompt.\n",
        "\n",
        "**Question 16**: Is indentation required in Python?\n",
        "\n",
        "**Answer**: Yes, indentation is mandatory in Python to define blocks of code."
      ],
      "metadata": {
        "id": "en5ZMzdMuqUD"
      }
    },
    {
      "cell_type": "code",
      "execution_count": null,
      "metadata": {
        "id": "f5P4_-Ttuo4c"
      },
      "outputs": [],
      "source": []
    }
  ]
}